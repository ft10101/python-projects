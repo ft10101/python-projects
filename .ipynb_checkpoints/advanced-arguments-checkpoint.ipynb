{
 "cells": [
  {
   "cell_type": "markdown",
   "id": "66d347c5",
   "metadata": {},
   "source": [
    "### arbitrary arguments and keyword arguments\n",
    "can use a number of arguments inside a functon as arguments"
   ]
  },
  {
   "cell_type": "code",
   "execution_count": 2,
   "id": "1292855d",
   "metadata": {},
   "outputs": [],
   "source": [
    "def summation(*args):\n",
    "    return sum(args)"
   ]
  },
  {
   "cell_type": "code",
   "execution_count": 3,
   "id": "f725cd3e",
   "metadata": {},
   "outputs": [
    {
     "data": {
      "text/plain": [
       "405"
      ]
     },
     "execution_count": 3,
     "metadata": {},
     "output_type": "execute_result"
    }
   ],
   "source": [
    "summation(101,120,110,22,52)"
   ]
  },
  {
   "cell_type": "code",
   "execution_count": 7,
   "id": "fd8ca5d7",
   "metadata": {},
   "outputs": [
    {
     "data": {
      "text/plain": [
       "17"
      ]
     },
     "execution_count": 7,
     "metadata": {},
     "output_type": "execute_result"
    }
   ],
   "source": [
    "summation(1,12,4)"
   ]
  },
  {
   "cell_type": "code",
   "execution_count": 8,
   "id": "638a6c94",
   "metadata": {},
   "outputs": [],
   "source": [
    "def prin(*args):\n",
    "    print(args)"
   ]
  },
  {
   "cell_type": "code",
   "execution_count": 10,
   "id": "55718156",
   "metadata": {},
   "outputs": [
    {
     "name": "stdout",
     "output_type": "stream",
     "text": [
      "('asa', 'da')\n"
     ]
    }
   ],
   "source": [
    "prin('asa','da')"
   ]
  },
  {
   "cell_type": "code",
   "execution_count": 11,
   "id": "eb208d6b",
   "metadata": {},
   "outputs": [],
   "source": [
    "def my_func(*sam):\n",
    "    print(sam)"
   ]
  },
  {
   "cell_type": "code",
   "execution_count": 14,
   "id": "0d4d06fc",
   "metadata": {},
   "outputs": [
    {
     "name": "stdout",
     "output_type": "stream",
     "text": [
      "('aa', 'hello', 1, 2, 3)\n"
     ]
    }
   ],
   "source": [
    "my_func(\"aa\",\"hello\",1,2,3)"
   ]
  },
  {
   "cell_type": "markdown",
   "id": "61cf1b42",
   "metadata": {},
   "source": [
    "# keyword arguments (key-value)"
   ]
  },
  {
   "cell_type": "code",
   "execution_count": 13,
   "id": "b43ba48d",
   "metadata": {},
   "outputs": [],
   "source": [
    "def example(**kwargs):\n",
    "    print(kwargs)"
   ]
  },
  {
   "cell_type": "code",
   "execution_count": 15,
   "id": "6c3c2b96",
   "metadata": {},
   "outputs": [
    {
     "name": "stdout",
     "output_type": "stream",
     "text": [
      "{'run': 100, 'swim': 200, 'basketball': 300}\n"
     ]
    }
   ],
   "source": [
    "example(run=100,swim=200,basketball=300)"
   ]
  },
  {
   "cell_type": "code",
   "execution_count": 22,
   "id": "9f64930d",
   "metadata": {},
   "outputs": [],
   "source": [
    "def key(**kwargs):\n",
    "    if \"metallica\" in kwargs:\n",
    "        print(\"Metallica is present in args\")\n",
    "    else:\n",
    "        print(\"metallica not present in args\")"
   ]
  },
  {
   "cell_type": "code",
   "execution_count": 23,
   "id": "1d54b5e0",
   "metadata": {},
   "outputs": [
    {
     "name": "stdout",
     "output_type": "stream",
     "text": [
      "Metallica is present in args\n"
     ]
    }
   ],
   "source": [
    "key(metallica=100,dead=200,alive=300)"
   ]
  },
  {
   "cell_type": "code",
   "execution_count": 24,
   "id": "ae0be723",
   "metadata": {},
   "outputs": [
    {
     "name": "stdout",
     "output_type": "stream",
     "text": [
      "metallica not present in args\n"
     ]
    }
   ],
   "source": [
    "key(mic=10)"
   ]
  },
  {
   "cell_type": "code",
   "execution_count": null,
   "id": "33ba4316",
   "metadata": {},
   "outputs": [],
   "source": []
  }
 ],
 "metadata": {
  "kernelspec": {
   "display_name": "Python 3 (ipykernel)",
   "language": "python",
   "name": "python3"
  },
  "language_info": {
   "codemirror_mode": {
    "name": "ipython",
    "version": 3
   },
   "file_extension": ".py",
   "mimetype": "text/x-python",
   "name": "python",
   "nbconvert_exporter": "python",
   "pygments_lexer": "ipython3",
   "version": "3.11.6"
  }
 },
 "nbformat": 4,
 "nbformat_minor": 5
}
