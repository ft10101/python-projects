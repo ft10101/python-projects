{
 "cells": [
  {
   "cell_type": "markdown",
   "id": "66d347c5",
   "metadata": {},
   "source": [
    "### arbitrary arguments and keyword arguments\n",
    "can use a number of arguments inside a functon as arguments"
   ]
  },
  {
   "cell_type": "code",
   "execution_count": 1,
   "id": "1292855d",
   "metadata": {},
   "outputs": [],
   "source": [
    "def summation(*args):\n",
    "    return sum(args)"
   ]
  },
  {
   "cell_type": "code",
   "execution_count": 3,
   "id": "f725cd3e",
   "metadata": {},
   "outputs": [
    {
     "data": {
      "text/plain": [
       "405"
      ]
     },
     "execution_count": 3,
     "metadata": {},
     "output_type": "execute_result"
    }
   ],
   "source": [
    "summation(101,120,110,22,52)"
   ]
  },
  {
   "cell_type": "code",
   "execution_count": null,
   "id": "fd8ca5d7",
   "metadata": {},
   "outputs": [],
   "source": []
  }
 ],
 "metadata": {
  "kernelspec": {
   "display_name": "Python 3 (ipykernel)",
   "language": "python",
   "name": "python3"
  },
  "language_info": {
   "codemirror_mode": {
    "name": "ipython",
    "version": 3
   },
   "file_extension": ".py",
   "mimetype": "text/x-python",
   "name": "python",
   "nbconvert_exporter": "python",
   "pygments_lexer": "ipython3",
   "version": "3.11.6"
  }
 },
 "nbformat": 4,
 "nbformat_minor": 5
}
